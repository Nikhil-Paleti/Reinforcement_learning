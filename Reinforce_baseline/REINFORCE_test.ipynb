{
 "cells": [
  {
   "cell_type": "code",
   "execution_count": 6,
   "id": "fc6ddb18-29e2-4bdd-83ba-2288be9f32a8",
   "metadata": {},
   "outputs": [],
   "source": [
    "import numpy as np\n",
    "import gym\n",
    "import tensorflow as tf\n",
    "import tensorflow_probability as tfp"
   ]
  },
  {
   "cell_type": "code",
   "execution_count": 7,
   "id": "073b7a3e-1b0b-4001-89cb-62b6f8ecfdc8",
   "metadata": {},
   "outputs": [
    {
     "name": "stdout",
     "output_type": "stream",
     "text": [
      "WARNING:tensorflow:No training configuration found in save file, so the model was *not* compiled. Compile it manually.\n"
     ]
    }
   ],
   "source": [
    "model = tf.keras.models.load_model(\"REINFORCE_cartpole_policy\")"
   ]
  },
  {
   "cell_type": "code",
   "execution_count": 8,
   "id": "3a231ad4-913f-42ca-918d-347ba22fa8fa",
   "metadata": {},
   "outputs": [],
   "source": [
    "def action_distribution(observations):\n",
    "    global model\n",
    "    logits = model(observations)\n",
    "    return tfp.distributions.Categorical(logits=logits)\n",
    "\n",
    "def sampel_action(observations):\n",
    "    sampled_actions = action_distribution(observations).sample().numpy()\n",
    "    return sampled_actions"
   ]
  },
  {
   "cell_type": "code",
   "execution_count": 9,
   "id": "d14cde2d-40e6-4f1a-b81d-56548a5f0e82",
   "metadata": {},
   "outputs": [
    {
     "data": {
      "text/plain": [
       "True"
      ]
     },
     "execution_count": 9,
     "metadata": {},
     "output_type": "execute_result"
    }
   ],
   "source": [
    "env = gym.make(\"CartPole-v1\")\n",
    "env.reset()\n",
    "env.render()"
   ]
  },
  {
   "cell_type": "code",
   "execution_count": 10,
   "id": "ad05ce2d-4dac-4836-91aa-a9c759cfb943",
   "metadata": {},
   "outputs": [
    {
     "name": "stdout",
     "output_type": "stream",
     "text": [
      "Game : 0\n",
      "Reward: 500.0\n"
     ]
    }
   ],
   "source": [
    "for episode in range(1):\n",
    "    print(f\"Game : {episode}\")\n",
    "    state = env.reset()\n",
    "    rewards = 0 \n",
    "    done = False  \n",
    "    while not done:\n",
    "        env.render()\n",
    "        action = sampel_action(np.atleast_2d(state))[0]\n",
    "        state, reward, done, _ = env.step(action)\n",
    "        rewards += reward\n",
    "    \n",
    "    print(f\"Reward: {rewards}\")\n",
    "    \n",
    "env.close()"
   ]
  }
 ],
 "metadata": {
  "kernelspec": {
   "display_name": "Python 3 (ipykernel)",
   "language": "python",
   "name": "python3"
  },
  "language_info": {
   "codemirror_mode": {
    "name": "ipython",
    "version": 3
   },
   "file_extension": ".py",
   "mimetype": "text/x-python",
   "name": "python",
   "nbconvert_exporter": "python",
   "pygments_lexer": "ipython3",
   "version": "3.7.12"
  }
 },
 "nbformat": 4,
 "nbformat_minor": 5
}
