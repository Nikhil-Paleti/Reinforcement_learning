{
 "cells": [
  {
   "cell_type": "code",
   "execution_count": 1,
   "metadata": {},
   "outputs": [
    {
     "name": "stderr",
     "output_type": "stream",
     "text": [
      "C:\\Users\\Nikhil\\anaconda3\\envs\\myenv\\lib\\site-packages\\ale_py\\roms\\utils.py:90: DeprecationWarning: SelectableGroups dict interface is deprecated. Use select.\n",
      "  for external in metadata.entry_points().get(self.group, []):\n"
     ]
    }
   ],
   "source": [
    "import numpy as np\n",
    "import gym\n",
    "import random\n",
    "import matplotlib.pyplot as plt\n",
    "%matplotlib inline \n",
    "import tensorflow as tf\n",
    "from collections import deque \n",
    "from tqdm import tqdm\n",
    "import time"
   ]
  },
  {
   "cell_type": "code",
   "execution_count": 2,
   "metadata": {
    "jupyter": {
     "source_hidden": true
    },
    "tags": []
   },
   "outputs": [
    {
     "name": "stdout",
     "output_type": "stream",
     "text": [
      "\n",
      "    Description:\n",
      "        A pole is attached by an un-actuated joint to a cart, which moves along\n",
      "        a frictionless track. The pendulum starts upright, and the goal is to\n",
      "        prevent it from falling over by increasing and reducing the cart's\n",
      "        velocity.\n",
      "    Source:\n",
      "        This environment corresponds to the version of the cart-pole problem\n",
      "        described by Barto, Sutton, and Anderson\n",
      "    Observation:\n",
      "        Type: Box(4)\n",
      "        Num     Observation               Min                     Max\n",
      "        0       Cart Position             -2.4                    2.4\n",
      "        1       Cart Velocity             -Inf                    Inf\n",
      "        2       Pole Angle                -0.209 rad (-12 deg)    0.209 rad (12 deg)\n",
      "        3       Pole Angular Velocity     -Inf                    Inf\n",
      "    Actions:\n",
      "        Type: Discrete(2)\n",
      "        Num   Action\n",
      "        0     Push cart to the left\n",
      "        1     Push cart to the right\n",
      "        Note: The amount the velocity that is reduced or increased is not\n",
      "        fixed; it depends on the angle the pole is pointing. This is because\n",
      "        the center of gravity of the pole increases the amount of energy needed\n",
      "        to move the cart underneath it\n",
      "    Reward:\n",
      "        Reward is 1 for every step taken, including the termination step\n",
      "    Starting State:\n",
      "        All observations are assigned a uniform random value in [-0.05..0.05]\n",
      "    Episode Termination:\n",
      "        Pole Angle is more than 12 degrees.\n",
      "        Cart Position is more than 2.4 (center of the cart reaches the edge of\n",
      "        the display).\n",
      "        Episode length is greater than 200.\n",
      "        Solved Requirements:\n",
      "        Considered solved when the average return is greater than or equal to\n",
      "        195.0 over 100 consecutive trials.\n",
      "    \n"
     ]
    }
   ],
   "source": [
    "env_info =      \"\"\"\n",
    "    Description:\n",
    "        A pole is attached by an un-actuated joint to a cart, which moves along\n",
    "        a frictionless track. The pendulum starts upright, and the goal is to\n",
    "        prevent it from falling over by increasing and reducing the cart's\n",
    "        velocity.\n",
    "    Source:\n",
    "        This environment corresponds to the version of the cart-pole problem\n",
    "        described by Barto, Sutton, and Anderson\n",
    "    Observation:\n",
    "        Type: Box(4)\n",
    "        Num     Observation               Min                     Max\n",
    "        0       Cart Position             -2.4                    2.4\n",
    "        1       Cart Velocity             -Inf                    Inf\n",
    "        2       Pole Angle                -0.209 rad (-12 deg)    0.209 rad (12 deg)\n",
    "        3       Pole Angular Velocity     -Inf                    Inf\n",
    "    Actions:\n",
    "        Type: Discrete(2)\n",
    "        Num   Action\n",
    "        0     Push cart to the left\n",
    "        1     Push cart to the right\n",
    "        Note: The amount the velocity that is reduced or increased is not\n",
    "        fixed; it depends on the angle the pole is pointing. This is because\n",
    "        the center of gravity of the pole increases the amount of energy needed\n",
    "        to move the cart underneath it\n",
    "    Reward:\n",
    "        Reward is 1 for every step taken, including the termination step\n",
    "    Starting State:\n",
    "        All observations are assigned a uniform random value in [-0.05..0.05]\n",
    "    Episode Termination:\n",
    "        Pole Angle is more than 12 degrees.\n",
    "        Cart Position is more than 2.4 (center of the cart reaches the edge of\n",
    "        the display).\n",
    "        Episode length is greater than 200.\n",
    "        Solved Requirements:\n",
    "        Considered solved when the average return is greater than or equal to\n",
    "        195.0 over 100 consecutive trials.\n",
    "    \"\"\"\n",
    "print(env_info)"
   ]
  },
  {
   "cell_type": "markdown",
   "metadata": {},
   "source": [
    "creating the environment"
   ]
  },
  {
   "cell_type": "code",
   "execution_count": 3,
   "metadata": {},
   "outputs": [
    {
     "data": {
      "text/plain": [
       "True"
      ]
     },
     "execution_count": 3,
     "metadata": {},
     "output_type": "execute_result"
    }
   ],
   "source": [
    "env = gym.make(\"CartPole-v1\")\n",
    "env.reset()\n",
    "env.render()"
   ]
  },
  {
   "cell_type": "code",
   "execution_count": 4,
   "metadata": {},
   "outputs": [],
   "source": [
    "DISCOUNT = 0.99\n",
    "REPLAY_MEMORY_SIZE = 2_000  # How many last steps to keep for model training\n",
    "MIN_REPLAY_MEMORY_SIZE = 500  # Minimum number of steps in a memory to start training\n",
    "MINIBATCH_SIZE = 32  # How many steps (samples) to use for training\n",
    "TAU = 0.1\n",
    "# Environment settings\n",
    "EPISODES = 2000\n",
    "\n",
    "# Exploration settings\n",
    "epsilon = 1  # not a constant, going to be decayed\n",
    "EPSILON_DECAY = 0.99\n",
    "MIN_EPSILON = 0.01\n",
    "\n",
    "#  Stats settings\n",
    "AGGREGATE_STATS_EVERY = 50  # episodes"
   ]
  },
  {
   "cell_type": "code",
   "execution_count": 5,
   "metadata": {},
   "outputs": [],
   "source": [
    "def make_model(obs_space, act_space):\n",
    "    model = tf.keras.models.Sequential([\n",
    "        tf.keras.layers.InputLayer(input_shape = obs_space),\n",
    "        tf.keras.layers.Dense(64, activation=\"relu\"),\n",
    "        tf.keras.layers.Dense(64, activation=\"relu\"),\n",
    "        tf.keras.layers.Dense(act_space, activation=\"linear\")\n",
    "    ])\n",
    "    \n",
    "    model.compile(loss=\"mse\", optimizer=tf.keras.optimizers.Adam(), metrics=[\"accuracy\"])\n",
    "    \n",
    "    return model"
   ]
  },
  {
   "cell_type": "code",
   "execution_count": 6,
   "metadata": {},
   "outputs": [],
   "source": [
    "# initialize replay memory to capacity \n",
    "replay_memory = deque(maxlen=REPLAY_MEMORY_SIZE) \n",
    "\n",
    "# initialize action-value function \n",
    "model = make_model((1,4), 2)\n",
    "\n",
    "# initialize target action-value function\n",
    "target_model = make_model(env.observation_space.shape, env.action_space.n)\n",
    "target_model.set_weights(model.get_weights())"
   ]
  },
  {
   "cell_type": "code",
   "execution_count": 7,
   "metadata": {},
   "outputs": [
    {
     "name": "stdout",
     "output_type": "stream",
     "text": [
      "Model: \"sequential\"\n",
      "_________________________________________________________________\n",
      "Layer (type)                 Output Shape              Param #   \n",
      "=================================================================\n",
      "dense (Dense)                (None, 1, 64)             320       \n",
      "_________________________________________________________________\n",
      "dense_1 (Dense)              (None, 1, 64)             4160      \n",
      "_________________________________________________________________\n",
      "dense_2 (Dense)              (None, 1, 2)              130       \n",
      "=================================================================\n",
      "Total params: 4,610\n",
      "Trainable params: 4,610\n",
      "Non-trainable params: 0\n",
      "_________________________________________________________________\n"
     ]
    }
   ],
   "source": [
    "model.summary()"
   ]
  },
  {
   "cell_type": "code",
   "execution_count": 8,
   "metadata": {},
   "outputs": [],
   "source": [
    "# Queries action-value function network for Q values given current observation space (environment state)\n",
    "def get_qs(state):\n",
    "    return model.predict(state.reshape(-1,1,4))"
   ]
  },
  {
   "cell_type": "code",
   "execution_count": 9,
   "metadata": {},
   "outputs": [],
   "source": [
    "# Trains main network (action-value function) every step during episode\n",
    "def train(terminal_state):\n",
    "    \n",
    "    # Start training only if certain number of samples is already saved\n",
    "    if len(replay_memory) < MIN_REPLAY_MEMORY_SIZE:\n",
    "        return\n",
    "\n",
    "    # Get a minibatch of random samples from memory replay table\n",
    "    minibatch = random.sample(replay_memory, MINIBATCH_SIZE)\n",
    "\n",
    "    # Get current states from minibatch, then query NN model for Q values\n",
    "    current_states = np.array([transition[0] for transition in minibatch])\n",
    "    current_qs_list = model.predict(current_states)\n",
    "\n",
    "    # Get future states from minibatch, then query NN model for Q values\n",
    "    new_current_states = np.array([transition[3] for transition in minibatch])\n",
    "    future_qs_list = target_model.predict(new_current_states)\n",
    "\n",
    "    X = []\n",
    "    y = []\n",
    "\n",
    "    # Now we need to enumerate our batches\n",
    "    for index, (current_state, action, reward, new_current_state, done) in enumerate(minibatch):\n",
    "\n",
    "    # If not a terminal state, get new q from future states, otherwise set it to 0\n",
    "    # almost like with Q Learning, but we use just part of equation here\n",
    "        if not done:\n",
    "            max_future_q = np.max(future_qs_list[index])\n",
    "            new_q = reward + DISCOUNT * max_future_q\n",
    "        else:\n",
    "            new_q = reward\n",
    "\n",
    "        # Update Q value for given state\n",
    "        current_qs = current_qs_list[index]\n",
    "        current_qs[0][action] = new_q\n",
    "\n",
    "        # And append to our training data\n",
    "        X.append(current_state)\n",
    "        y.append(current_qs)\n",
    "\n",
    "    # Fit on all samples as one batch, log only on terminal state\n",
    "    if terminal_state:\n",
    "        model.fit(np.array(X), np.array(y), batch_size=MINIBATCH_SIZE, verbose=0, shuffle=False)\n",
    "        \n",
    "        q_network_theta = model.get_weights()\n",
    "        target_network_theta = target_model.get_weights()\n",
    "        counter = 0\n",
    "        for q_weight, target_weight in zip(q_network_theta,target_network_theta):\n",
    "            target_weight = target_weight * (1-TAU) + q_weight * TAU\n",
    "            target_network_theta[counter] = target_weight\n",
    "            counter += 1\n",
    "        target_model.set_weights(target_network_theta)\n",
    "    # Update target network counter every episode\n",
    "   "
   ]
  },
  {
   "cell_type": "code",
   "execution_count": 10,
   "metadata": {
    "scrolled": true,
    "tags": []
   },
   "outputs": [],
   "source": [
    "MIN_REWARD = 50  # For model save\n",
    "AGGREGATE_STATS_EVERY = 50  # episodes"
   ]
  },
  {
   "cell_type": "code",
   "execution_count": 11,
   "metadata": {},
   "outputs": [
    {
     "name": "stderr",
     "output_type": "stream",
     "text": [
      "  0%|                                                                                  | 1/2000 [00:00<08:28,  3.93episodes/s]"
     ]
    },
    {
     "name": "stdout",
     "output_type": "stream",
     "text": [
      "1 done, average reward = 15.0, min=15.0, max=15.0\n"
     ]
    },
    {
     "name": "stderr",
     "output_type": "stream",
     "text": [
      "  1%|7                                                                                | 18/2000 [00:11<18:54,  1.75episodes/s]"
     ]
    },
    {
     "name": "stdout",
     "output_type": "stream",
     "text": [
      "WARNING:tensorflow:Model was constructed with shape (None, 4) for input KerasTensor(type_spec=TensorSpec(shape=(None, 4), dtype=tf.float32, name='input_2'), name='input_2', description=\"created by layer 'input_2'\"), but it was called on an input with incompatible shape (32, 1, 4).\n"
     ]
    },
    {
     "name": "stderr",
     "output_type": "stream",
     "text": [
      "  2%|##                                                                               | 50/2000 [01:28<55:32,  1.71s/episodes]"
     ]
    },
    {
     "name": "stdout",
     "output_type": "stream",
     "text": [
      "50 done, average reward = 22.92, min=9.0, max=101.0\n"
     ]
    },
    {
     "name": "stderr",
     "output_type": "stream",
     "text": [
      "  5%|####                                                                            | 100/2000 [03:02<46:33,  1.47s/episodes]"
     ]
    },
    {
     "name": "stdout",
     "output_type": "stream",
     "text": [
      "100 done, average reward = 13.74, min=8.0, max=32.0\n"
     ]
    },
    {
     "name": "stderr",
     "output_type": "stream",
     "text": [
      "  8%|######                                                                          | 150/2000 [04:28<50:14,  1.63s/episodes]"
     ]
    },
    {
     "name": "stdout",
     "output_type": "stream",
     "text": [
      "150 done, average reward = 11.1, min=8.0, max=21.0\n"
     ]
    },
    {
     "name": "stderr",
     "output_type": "stream",
     "text": [
      " 10%|########                                                                        | 200/2000 [05:50<52:12,  1.74s/episodes]"
     ]
    },
    {
     "name": "stdout",
     "output_type": "stream",
     "text": [
      "200 done, average reward = 10.58, min=8.0, max=14.0\n"
     ]
    },
    {
     "name": "stderr",
     "output_type": "stream",
     "text": [
      " 12%|##########                                                                      | 250/2000 [07:26<57:41,  1.98s/episodes]"
     ]
    },
    {
     "name": "stdout",
     "output_type": "stream",
     "text": [
      "250 done, average reward = 12.3, min=8.0, max=16.0\n"
     ]
    },
    {
     "name": "stderr",
     "output_type": "stream",
     "text": [
      " 15%|###########7                                                                  | 300/2000 [09:34<1:17:42,  2.74s/episodes]"
     ]
    },
    {
     "name": "stdout",
     "output_type": "stream",
     "text": [
      "300 done, average reward = 16.12, min=9.0, max=33.0\n"
     ]
    },
    {
     "name": "stderr",
     "output_type": "stream",
     "text": [
      " 18%|#############6                                                                | 350/2000 [25:30<7:09:46, 15.63s/episodes]"
     ]
    },
    {
     "name": "stdout",
     "output_type": "stream",
     "text": [
      "350 done, average reward = 96.0, min=10.0, max=500.0\n"
     ]
    },
    {
     "name": "stderr",
     "output_type": "stream",
     "text": [
      " 20%|###############6                                                              | 400/2000 [44:12<1:46:23,  3.99s/episodes]"
     ]
    },
    {
     "name": "stdout",
     "output_type": "stream",
     "text": [
      "400 done, average reward = 127.3, min=13.0, max=500.0\n"
     ]
    },
    {
     "name": "stderr",
     "output_type": "stream",
     "text": [
      " 22%|##################                                                              | 450/2000 [53:16<58:37,  2.27s/episodes]"
     ]
    },
    {
     "name": "stdout",
     "output_type": "stream",
     "text": [
      "450 done, average reward = 67.28, min=9.0, max=405.0\n"
     ]
    },
    {
     "name": "stderr",
     "output_type": "stream",
     "text": [
      " 25%|###################                                                         | 500/2000 [1:05:02<3:07:04,  7.48s/episodes]"
     ]
    },
    {
     "name": "stdout",
     "output_type": "stream",
     "text": [
      "500 done, average reward = 86.72, min=9.0, max=300.0\n"
     ]
    },
    {
     "name": "stderr",
     "output_type": "stream",
     "text": [
      " 28%|####################9                                                       | 550/2000 [1:10:44<1:20:34,  3.33s/episodes]"
     ]
    },
    {
     "name": "stdout",
     "output_type": "stream",
     "text": [
      "550 done, average reward = 42.68, min=11.0, max=175.0\n"
     ]
    },
    {
     "name": "stderr",
     "output_type": "stream",
     "text": [
      " 30%|#######################4                                                      | 600/2000 [1:14:30<38:05,  1.63s/episodes]"
     ]
    },
    {
     "name": "stdout",
     "output_type": "stream",
     "text": [
      "600 done, average reward = 27.8, min=8.0, max=209.0\n"
     ]
    },
    {
     "name": "stderr",
     "output_type": "stream",
     "text": [
      " 32%|#########################3                                                    | 650/2000 [1:16:55<35:59,  1.60s/episodes]"
     ]
    },
    {
     "name": "stdout",
     "output_type": "stream",
     "text": [
      "650 done, average reward = 17.48, min=8.0, max=335.0\n"
     ]
    },
    {
     "name": "stderr",
     "output_type": "stream",
     "text": [
      " 35%|##########################6                                                 | 700/2000 [1:20:41<1:51:57,  5.17s/episodes]"
     ]
    },
    {
     "name": "stdout",
     "output_type": "stream",
     "text": [
      "700 done, average reward = 27.26, min=8.0, max=156.0\n"
     ]
    },
    {
     "name": "stderr",
     "output_type": "stream",
     "text": [
      " 38%|############################5                                               | 750/2000 [1:24:18<1:34:21,  4.53s/episodes]"
     ]
    },
    {
     "name": "stdout",
     "output_type": "stream",
     "text": [
      "750 done, average reward = 26.16, min=12.0, max=103.0\n"
     ]
    },
    {
     "name": "stderr",
     "output_type": "stream",
     "text": [
      " 40%|##############################4                                             | 800/2000 [1:33:53<3:13:17,  9.66s/episodes]"
     ]
    },
    {
     "name": "stdout",
     "output_type": "stream",
     "text": [
      "800 done, average reward = 70.4, min=25.0, max=155.0\n"
     ]
    },
    {
     "name": "stderr",
     "output_type": "stream",
     "text": [
      " 42%|################################3                                           | 850/2000 [1:40:39<5:05:40, 15.95s/episodes]"
     ]
    },
    {
     "name": "stdout",
     "output_type": "stream",
     "text": [
      "850 done, average reward = 49.92, min=18.0, max=245.0\n"
     ]
    },
    {
     "name": "stderr",
     "output_type": "stream",
     "text": [
      " 45%|##################################2                                         | 900/2000 [1:47:12<2:38:24,  8.64s/episodes]"
     ]
    },
    {
     "name": "stdout",
     "output_type": "stream",
     "text": [
      "900 done, average reward = 47.5, min=15.0, max=130.0\n"
     ]
    },
    {
     "name": "stderr",
     "output_type": "stream",
     "text": [
      " 48%|####################################1                                       | 950/2000 [1:55:30<2:12:08,  7.55s/episodes]"
     ]
    },
    {
     "name": "stdout",
     "output_type": "stream",
     "text": [
      "950 done, average reward = 47.94, min=18.0, max=176.0\n"
     ]
    },
    {
     "name": "stderr",
     "output_type": "stream",
     "text": [
      " 50%|#####################################5                                     | 1000/2000 [2:04:31<4:56:32, 17.79s/episodes]"
     ]
    },
    {
     "name": "stdout",
     "output_type": "stream",
     "text": [
      "1000 done, average reward = 49.32, min=15.0, max=185.0\n"
     ]
    },
    {
     "name": "stderr",
     "output_type": "stream",
     "text": [
      " 52%|#######################################3                                   | 1050/2000 [2:09:52<1:33:13,  5.89s/episodes]"
     ]
    },
    {
     "name": "stdout",
     "output_type": "stream",
     "text": [
      "1050 done, average reward = 37.46, min=17.0, max=247.0\n"
     ]
    },
    {
     "name": "stderr",
     "output_type": "stream",
     "text": [
      " 55%|#########################################2                                 | 1100/2000 [2:27:25<5:38:18, 22.55s/episodes]"
     ]
    },
    {
     "name": "stdout",
     "output_type": "stream",
     "text": [
      "1100 done, average reward = 137.24, min=25.0, max=500.0\n"
     ]
    },
    {
     "name": "stderr",
     "output_type": "stream",
     "text": [
      " 57%|###########################################1                               | 1150/2000 [2:50:19<5:30:22, 23.32s/episodes]"
     ]
    },
    {
     "name": "stdout",
     "output_type": "stream",
     "text": [
      "1150 done, average reward = 182.5, min=39.0, max=500.0\n"
     ]
    },
    {
     "name": "stderr",
     "output_type": "stream",
     "text": [
      " 60%|#############################################                              | 1200/2000 [3:20:11<3:09:19, 14.20s/episodes]"
     ]
    },
    {
     "name": "stdout",
     "output_type": "stream",
     "text": [
      "1200 done, average reward = 238.7, min=23.0, max=500.0\n"
     ]
    },
    {
     "name": "stderr",
     "output_type": "stream",
     "text": [
      " 62%|##############################################8                            | 1249/2000 [3:47:49<7:09:07, 34.28s/episodes]"
     ]
    },
    {
     "name": "stdout",
     "output_type": "stream",
     "text": [
      "1250 done, average reward = 227.94, min=102.0, max=500.0\n",
      "INFO:tensorflow:Assets written to: cart___500.00max__227.94avg__102.00min__1640460630\\assets\n"
     ]
    },
    {
     "name": "stderr",
     "output_type": "stream",
     "text": [
      " 65%|################################################7                          | 1299/2000 [4:32:21<9:58:07, 51.20s/episodes]"
     ]
    },
    {
     "name": "stdout",
     "output_type": "stream",
     "text": [
      "1300 done, average reward = 362.74, min=212.0, max=500.0\n",
      "INFO:tensorflow:Assets written to: cart___500.00max__362.74avg__212.00min__1640463328\\assets\n"
     ]
    },
    {
     "name": "stderr",
     "output_type": "stream",
     "text": [
      " 67%|#################################################9                        | 1349/2000 [5:15:26<11:44:08, 64.90s/episodes]"
     ]
    },
    {
     "name": "stdout",
     "output_type": "stream",
     "text": [
      "1350 done, average reward = 343.82, min=197.0, max=500.0\n",
      "INFO:tensorflow:Assets written to: cart___500.00max__343.82avg__197.00min__1640465890\\assets\n"
     ]
    },
    {
     "name": "stderr",
     "output_type": "stream",
     "text": [
      " 70%|###################################################7                      | 1399/2000 [6:03:19<10:31:40, 63.06s/episodes]"
     ]
    },
    {
     "name": "stdout",
     "output_type": "stream",
     "text": [
      "1400 done, average reward = 389.78, min=212.0, max=500.0\n",
      "INFO:tensorflow:Assets written to: cart___500.00max__389.78avg__212.00min__1640468786\\assets\n"
     ]
    },
    {
     "name": "stderr",
     "output_type": "stream",
     "text": [
      " 72%|######################################################3                    | 1450/2000 [6:40:26<9:47:06, 64.05s/episodes]"
     ]
    },
    {
     "name": "stdout",
     "output_type": "stream",
     "text": [
      "1450 done, average reward = 289.04, min=20.0, max=500.0\n"
     ]
    },
    {
     "name": "stderr",
     "output_type": "stream",
     "text": [
      " 75%|#######################################################4                  | 1499/2000 [7:36:01<10:24:24, 74.78s/episodes]"
     ]
    },
    {
     "name": "stdout",
     "output_type": "stream",
     "text": [
      "1500 done, average reward = 458.02, min=279.0, max=500.0\n",
      "INFO:tensorflow:Assets written to: cart___500.00max__458.02avg__279.00min__1640474347\\assets\n"
     ]
    },
    {
     "name": "stderr",
     "output_type": "stream",
     "text": [
      " 77%|##########################################################                 | 1549/2000 [8:26:46<7:01:01, 56.01s/episodes]"
     ]
    },
    {
     "name": "stdout",
     "output_type": "stream",
     "text": [
      "1550 done, average reward = 409.56, min=114.0, max=500.0\n",
      "INFO:tensorflow:Assets written to: cart___500.00max__409.56avg__114.00min__1640477393\\assets\n"
     ]
    },
    {
     "name": "stderr",
     "output_type": "stream",
     "text": [
      " 80%|############################################################               | 1600/2000 [8:41:18<1:13:23, 11.01s/episodes]"
     ]
    },
    {
     "name": "stdout",
     "output_type": "stream",
     "text": [
      "1600 done, average reward = 106.74, min=8.0, max=500.0\n"
     ]
    },
    {
     "name": "stderr",
     "output_type": "stream",
     "text": [
      " 82%|###############################################################5             | 1650/2000 [8:47:02<18:06,  3.10s/episodes]"
     ]
    },
    {
     "name": "stdout",
     "output_type": "stream",
     "text": [
      "1650 done, average reward = 45.98, min=12.0, max=218.0\n"
     ]
    },
    {
     "name": "stderr",
     "output_type": "stream",
     "text": [
      " 85%|###############################################################7           | 1700/2000 [8:56:54<1:18:33, 15.71s/episodes]"
     ]
    },
    {
     "name": "stdout",
     "output_type": "stream",
     "text": [
      "1700 done, average reward = 79.46, min=12.0, max=292.0\n"
     ]
    },
    {
     "name": "stderr",
     "output_type": "stream",
     "text": [
      " 88%|#################################################################6         | 1750/2000 [9:20:09<1:04:31, 15.48s/episodes]"
     ]
    },
    {
     "name": "stdout",
     "output_type": "stream",
     "text": [
      "1750 done, average reward = 187.86, min=37.0, max=500.0\n"
     ]
    },
    {
     "name": "stderr",
     "output_type": "stream",
     "text": [
      " 90%|###################################################################4       | 1799/2000 [9:48:33<1:56:47, 34.86s/episodes]"
     ]
    },
    {
     "name": "stdout",
     "output_type": "stream",
     "text": [
      "1800 done, average reward = 231.92, min=97.0, max=500.0\n",
      "INFO:tensorflow:Assets written to: cart___500.00max__231.92avg___97.00min__1640482245\\assets\n"
     ]
    },
    {
     "name": "stderr",
     "output_type": "stream",
     "text": [
      " 92%|######################################################################2     | 1849/2000 [10:13:37<41:00, 16.30s/episodes]"
     ]
    },
    {
     "name": "stdout",
     "output_type": "stream",
     "text": [
      "1850 done, average reward = 202.14, min=94.0, max=500.0\n",
      "INFO:tensorflow:Assets written to: cart___500.00max__202.14avg___94.00min__1640483745\\assets\n"
     ]
    },
    {
     "name": "stderr",
     "output_type": "stream",
     "text": [
      " 95%|########################################################################2   | 1900/2000 [10:28:50<12:15,  7.35s/episodes]"
     ]
    },
    {
     "name": "stdout",
     "output_type": "stream",
     "text": [
      "1900 done, average reward = 120.8, min=30.0, max=500.0\n"
     ]
    },
    {
     "name": "stderr",
     "output_type": "stream",
     "text": [
      " 98%|##########################################################################1 | 1950/2000 [10:50:04<38:55, 46.71s/episodes]"
     ]
    },
    {
     "name": "stdout",
     "output_type": "stream",
     "text": [
      "1950 done, average reward = 171.76, min=26.0, max=500.0\n"
     ]
    },
    {
     "name": "stderr",
     "output_type": "stream",
     "text": [
      "100%|############################################################################| 2000/2000 [11:17:17<00:00, 20.32s/episodes]"
     ]
    },
    {
     "name": "stdout",
     "output_type": "stream",
     "text": [
      "2000 done, average reward = 220.2, min=30.0, max=500.0\n"
     ]
    },
    {
     "name": "stderr",
     "output_type": "stream",
     "text": [
      "\n"
     ]
    }
   ],
   "source": [
    "rewards = []\n",
    "\n",
    "for episode in tqdm(range(1, EPISODES+1), ascii=True, unit='episodes'):\n",
    "    state = env.reset().reshape(1,-1)\n",
    "    done = False\n",
    "    total_rewards = 0\n",
    "    step = 1\n",
    "    \n",
    "    while not done:\n",
    "        # Choose A from S using policy derived from Q (e.g., \"epsilon-greedy)\n",
    "        exp_exp_tradeoff = random.uniform(0,1)\n",
    "        \n",
    "        if exp_exp_tradeoff > epsilon:\n",
    "            action = np.argmax(get_qs(state))\n",
    "        else:\n",
    "            action = env.action_space.sample()\n",
    "        \n",
    "        # Take action A, observe R, new_state\n",
    "        new_state, reward, done, info = env.step(action)\n",
    "        new_state = new_state.reshape(1,-1)\n",
    "                \n",
    "        total_rewards += reward\n",
    "        \n",
    "        env.render()\n",
    "        \n",
    "        replay_memory.append((state, action, reward, new_state, done))\n",
    "        train(done)\n",
    "        \n",
    "        # S = new_state\n",
    "        state = new_state\n",
    "        step += 1\n",
    "\n",
    "\n",
    "    # Reduce epsilon (because we need less and less exploration)\n",
    "    if epsilon > MIN_EPSILON:\n",
    "        epsilon *= EPSILON_DECAY\n",
    "        epsilon = max(MIN_EPSILON, epsilon)\n",
    "        \n",
    "    rewards.append(total_rewards)\n",
    "    \n",
    "    if not episode % AGGREGATE_STATS_EVERY or episode == 1:\n",
    "        average_reward = sum(rewards[-AGGREGATE_STATS_EVERY:])/len(rewards[-AGGREGATE_STATS_EVERY:])\n",
    "        min_reward = min(rewards[-AGGREGATE_STATS_EVERY:])\n",
    "        max_reward = max(rewards[-AGGREGATE_STATS_EVERY:])\n",
    "        print(f\"{episode} done, average reward = {average_reward}, min={min_reward}, max={max_reward}\")\n",
    "        # Save model, but only when min reward is greater or equal a set value\n",
    "        if min_reward >= MIN_REWARD:\n",
    "            model.save(f'cart__{max_reward:_>7.2f}max_{average_reward:_>7.2f}avg_{min_reward:_>7.2f}min__{int(time.time())}')\n",
    "\n",
    "env.close()"
   ]
  },
  {
   "cell_type": "code",
   "execution_count": 12,
   "metadata": {},
   "outputs": [],
   "source": [
    "env.close()"
   ]
  },
  {
   "cell_type": "code",
   "execution_count": 13,
   "metadata": {},
   "outputs": [
    {
     "data": {
      "text/plain": [
       "Text(0, 0.5, 'reward')"
      ]
     },
     "execution_count": 13,
     "metadata": {},
     "output_type": "execute_result"
    },
    {
     "data": {
      "image/png": "[encoded data removed]",
      "text/plain": [
       "<Figure size 1080x720 with 1 Axes>"
      ]
     },
     "metadata": {
      "needs_background": "light"
     },
     "output_type": "display_data"
    }
   ],
   "source": [
    "fig, ax = plt.subplots(figsize = (15,10))\n",
    "ax.plot(range(EPISODES), rewards)\n",
    "ax.set_xlabel(\"episode\")\n",
    "ax.set_ylabel(\"reward\")"
   ]
  },
  {
   "cell_type": "code",
   "execution_count": 18,
   "metadata": {},
   "outputs": [
    {
     "data": {
      "text/plain": [
       "Text(0, 0.5, 'reward')"
      ]
     },
     "execution_count": 18,
     "metadata": {},
     "output_type": "execute_result"
    },
    {
     "data": {
      "image/png": "[encoded data removed]",
      "text/plain": [
       "<Figure size 1080x720 with 1 Axes>"
      ]
     },
     "metadata": {
      "needs_background": "light"
     },
     "output_type": "display_data"
    }
   ],
   "source": [
    "fig, ax = plt.subplots(figsize = (15,10))\n",
    "ax.plot(range(50), rewards[1450:1500] )\n",
    "ax.set_xlabel(\"episode\")\n",
    "ax.set_ylabel(\"reward\")"
   ]
  }
 ],
 "metadata": {
  "kernelspec": {
   "display_name": "Python 3 (ipykernel)",
   "language": "python",
   "name": "python3"
  },
  "language_info": {
   "codemirror_mode": {
    "name": "ipython",
    "version": 3
   },
   "file_extension": ".py",
   "mimetype": "text/x-python",
   "name": "python",
   "nbconvert_exporter": "python",
   "pygments_lexer": "ipython3",
   "version": "3.7.12"
  }
 },
 "nbformat": 4,
 "nbformat_minor": 4
}
