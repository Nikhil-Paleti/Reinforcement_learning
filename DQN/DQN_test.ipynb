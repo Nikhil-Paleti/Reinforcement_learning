{
 "cells": [
  {
   "cell_type": "code",
   "execution_count": 5,
   "id": "2ec3b0bd-11ee-449b-8157-858a3ad51493",
   "metadata": {},
   "outputs": [],
   "source": [
    "import numpy as np\n",
    "import gym \n",
    "import tensorflow as tf"
   ]
  },
  {
   "cell_type": "code",
   "execution_count": 6,
   "id": "14047695-fa10-4438-bbaf-251c9398c1a4",
   "metadata": {},
   "outputs": [
    {
     "data": {
      "text/plain": [
       "True"
      ]
     },
     "execution_count": 6,
     "metadata": {},
     "output_type": "execute_result"
    }
   ],
   "source": [
    "env = gym.make(\"CartPole-v1\")\n",
    "env.reset()\n",
    "env.render()"
   ]
  },
  {
   "cell_type": "code",
   "execution_count": 7,
   "id": "a869347b-e4ac-43d0-8718-1b3843214a63",
   "metadata": {},
   "outputs": [],
   "source": [
    "model = tf.keras.models.load_model(\"cart___500.00max__458.02avg__279.00min__1640474347\")"
   ]
  },
  {
   "cell_type": "code",
   "execution_count": 8,
   "id": "cca49f3b-1618-4d3b-bdb1-8644e8e2a555",
   "metadata": {},
   "outputs": [
    {
     "name": "stdout",
     "output_type": "stream",
     "text": [
      "****************************************************\n",
      "Game:  0\n",
      "steps: 500, reward: 500.0\n"
     ]
    }
   ],
   "source": [
    "test_rewards = []\n",
    "for episode in range(1):\n",
    "    state = env.reset().reshape(1,1,4)\n",
    "    \n",
    "    step = 0\n",
    "    done = False\n",
    "    print(\"****************************************************\")\n",
    "    print(\"Game: \", episode)\n",
    "    env.render()\n",
    "    \n",
    "    game_reward = 0\n",
    "    while not done:\n",
    "        # Take the action (index) that have the maximum expected future reward given that state\n",
    "        action = np.argmax(model.predict(state))\n",
    "        \n",
    "        new_state, reward, done, info = env.step(action)\n",
    "        new_state = new_state.reshape(1,1,4)    \n",
    "        state = new_state\n",
    "        env.render()\n",
    "        step += 1\n",
    "        game_reward += reward\n",
    "    \n",
    "    test_rewards.append(game_reward)\n",
    "    print(f\"steps: {step}, reward: {game_reward}\")\n",
    "    \n",
    "env.close()"
   ]
  }
 ],
 "metadata": {
  "kernelspec": {
   "display_name": "Python 3 (ipykernel)",
   "language": "python",
   "name": "python3"
  },
  "language_info": {
   "codemirror_mode": {
    "name": "ipython",
    "version": 3
   },
   "file_extension": ".py",
   "mimetype": "text/x-python",
   "name": "python",
   "nbconvert_exporter": "python",
   "pygments_lexer": "ipython3",
   "version": "3.7.12"
  }
 },
 "nbformat": 4,
 "nbformat_minor": 5
}
