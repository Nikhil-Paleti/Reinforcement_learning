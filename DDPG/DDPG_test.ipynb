{
 "cells": [
  {
   "cell_type": "markdown",
   "id": "3b9431df-a2be-4f6a-9869-35423630494b",
   "metadata": {},
   "source": [
    "# buffer"
   ]
  },
  {
   "cell_type": "code",
   "execution_count": 12,
   "id": "886c949c-c57d-404a-bd33-8653bb8007e3",
   "metadata": {},
   "outputs": [],
   "source": [
    "import numpy as np\n",
    "from collections import deque\n",
    "import random"
   ]
  },
  {
   "cell_type": "code",
   "execution_count": 13,
   "id": "eb2d23a2-8f85-4f58-a256-70abdbf8fe15",
   "metadata": {
    "tags": []
   },
   "outputs": [],
   "source": [
    "class BasicBuffer_a:\n",
    "    \n",
    "    def __init__(self, size, obs_dim, act_dim):\n",
    "        self.obs1_buf = np.zeros([size, obs_dim], dtype=np.float32)\n",
    "        self.obs2_buf = np.zeros([size, obs_dim], dtype=np.float32)\n",
    "        self.acts_buf = np.zeros([size, act_dim], dtype=np.float32)\n",
    "        self.rews_buf = np.zeros([size], dtype=np.float32)\n",
    "        self.done_buf = np.zeros([size], dtype=np.float32)\n",
    "        self.ptr, self.size, self.max_size = 0, 0, size\n",
    "\n",
    "    def push(self, obs, act, rew, next_obs, done):\n",
    "        self.obs1_buf[self.ptr] = obs\n",
    "        self.obs2_buf[self.ptr] = next_obs\n",
    "        self.acts_buf[self.ptr] = act\n",
    "        self.rews_buf[self.ptr] = np.asarray([rew])\n",
    "        self.done_buf[self.ptr] = done\n",
    "        self.ptr = (self.ptr+1) % self.max_size\n",
    "        self.size = min(self.size+1, self.max_size)\n",
    "\n",
    "    def sample(self, batch_size=32):\n",
    "        idxs = np.random.randint(0, self.size, size=batch_size)\n",
    "        temp_dict= dict(s=self.obs1_buf[idxs],\n",
    "                    s2=self.obs2_buf[idxs],\n",
    "                    a=self.acts_buf[idxs],\n",
    "                    r=self.rews_buf[idxs],\n",
    "                    d=self.done_buf[idxs])\n",
    "        return (temp_dict['s'],temp_dict['a'],temp_dict['r'].reshape(-1,1),temp_dict['s2'],temp_dict['d'])"
   ]
  },
  {
   "cell_type": "markdown",
   "id": "2f06cf04-fdec-40ba-b0d9-579dc58622d2",
   "metadata": {},
   "source": [
    "# Critic and agent"
   ]
  },
  {
   "cell_type": "code",
   "execution_count": 14,
   "id": "f6252d53-a350-4b7d-a90d-323740ca19f9",
   "metadata": {},
   "outputs": [],
   "source": [
    "import tensorflow as tf\n",
    "from tensorflow.keras.layers import Input, Dense, concatenate"
   ]
  },
  {
   "cell_type": "code",
   "execution_count": 15,
   "id": "57248fb5-cedd-45fd-98d1-9c82662a5568",
   "metadata": {},
   "outputs": [],
   "source": [
    "def Critic_gen(state_size, action_size,hidden_layers):\n",
    "\n",
    "    input_x = Input(shape=state_size)\n",
    "    input_a = Input(shape=action_size)\n",
    "    x = input_x\n",
    "    for i,j in enumerate(hidden_layers[:-1]):\n",
    "        if i==1:\n",
    "            x = concatenate([x,input_a],axis=-1)\n",
    "        x = Dense(j,activation='relu')(x)\n",
    "    x = Dense(hidden_layers[-1])(x)\n",
    "    \n",
    "    return tf.keras.Model([input_x,input_a],x)\n",
    "\n",
    "def Actor_gen(state_size,action_size,hidden_layers,action_mult=1):\n",
    "    input_x = Input(shape=state_size)\n",
    "    x = input_x\n",
    "    for i in hidden_layers:\n",
    "        x = Dense(i,activation='relu')(x)\n",
    "    x = Dense(action_size,activation='tanh')(x)\n",
    "    x = tf.math.multiply(x,action_mult)\n",
    "    return tf.keras.Model(input_x,x)"
   ]
  },
  {
   "cell_type": "markdown",
   "id": "5efd08d8-202f-4b4e-b954-48658a835171",
   "metadata": {},
   "source": [
    "# DDPG"
   ]
  },
  {
   "cell_type": "code",
   "execution_count": 16,
   "id": "1bbd94d1-1a92-4c89-86a7-6cb1187a06cb",
   "metadata": {},
   "outputs": [],
   "source": [
    "import matplotlib.pyplot as plt\n",
    "from datetime import datetime\n",
    "from sys import exit"
   ]
  },
  {
   "cell_type": "code",
   "execution_count": 17,
   "id": "059ba823-b45d-4072-8225-a5d951923333",
   "metadata": {},
   "outputs": [],
   "source": [
    "class DDPGAgent:\n",
    "    \n",
    "    def __init__(self, env, gamma, tau, buffer_maxlen, critic_learning_rate, actor_learning_rate):\n",
    "        \n",
    "        self.env = env\n",
    "        self.obs_dim = env.observation_space.shape[0]\n",
    "        self.action_dim = env.action_space.shape[0]\n",
    "        self.action_max = env.action_space.high[0]\n",
    "        # self.action_max = 1\n",
    "        \n",
    "        # hyperparameters\n",
    "        self.env = env\n",
    "        self.gamma = gamma\n",
    "        self.tau = tau\n",
    "        \n",
    "        #Network layers\n",
    "        actor_layer = [512,200,128]\n",
    "        critic_layer = [1024,512,300,1]\n",
    "\n",
    "\n",
    "        # Main network outputs\n",
    "        self.mu = Actor_gen((3),(1),actor_layer,self.action_max)\n",
    "        self.q_mu = Critic_gen((3),(1),critic_layer)\n",
    "\n",
    "        # Target networks\n",
    "        self.mu_target = Actor_gen((3),(1),actor_layer,self.action_max)\n",
    "        self.q_mu_target = Critic_gen((3),(1),critic_layer)\n",
    "      \n",
    "        # Copying weights in,\n",
    "        self.mu_target.set_weights(self.mu.get_weights())\n",
    "        self.q_mu_target.set_weights(self.q_mu.get_weights())\n",
    "    \n",
    "        # optimizers\n",
    "        self.mu_optimizer = tf.keras.optimizers.Adam(learning_rate=critic_learning_rate)\n",
    "        self.q_mu_optimizer = tf.keras.optimizers.Adam(learning_rate=actor_learning_rate)\n",
    "  \n",
    "        self.replay_buffer = BasicBuffer_a(size = buffer_maxlen, obs_dim = self.obs_dim, act_dim = self.action_dim)\n",
    "        \n",
    "        self.q_losses = []\n",
    "        \n",
    "        self.mu_losses = []\n",
    "        \n",
    "    def get_action(self, s, noise_scale):\n",
    "        a =  self.mu.predict(s.reshape(1,-1))[0]\n",
    "        a += noise_scale * np.random.randn(self.action_dim)\n",
    "        return np.clip(a, -self.action_max, self.action_max)\n",
    "\n",
    "    def update(self, batch_size):\n",
    "        \n",
    "        \n",
    "        X,A,R,X2,D = self.replay_buffer.sample(batch_size)\n",
    "        X = np.asarray(X,dtype=np.float32)\n",
    "        A = np.asarray(A,dtype=np.float32)\n",
    "        R = np.asarray(R,dtype=np.float32)\n",
    "        X2 = np.asarray(X2,dtype=np.float32)\n",
    "        \n",
    "        \n",
    "        Xten=tf.convert_to_tensor(X)\n",
    "        \n",
    "\n",
    "        # Updating Critic\n",
    "        with tf.GradientTape() as tape:\n",
    "            A2 =  self.mu_target(X2)\n",
    "            q_target = R + self.gamma  * self.q_mu_target([X2,A2])\n",
    "            qvals = self.q_mu([X,A]) \n",
    "            q_loss = tf.reduce_mean((qvals - q_target)**2)\n",
    "            grads_q = tape.gradient(q_loss,self.q_mu.trainable_variables)\n",
    "        self.q_mu_optimizer.apply_gradients(zip(grads_q, self.q_mu.trainable_variables))\n",
    "        self.q_losses.append(q_loss)\n",
    "\n",
    "\n",
    "        #Updating Actor\n",
    "        with tf.GradientTape() as tape2:\n",
    "            A_mu =  self.mu(X)\n",
    "            Q_mu = self.q_mu([X,A_mu])\n",
    "            mu_loss =  -tf.reduce_mean(Q_mu)\n",
    "            grads_mu = tape2.gradient(mu_loss,self.mu.trainable_variables)\n",
    "        self.mu_losses.append(mu_loss)\n",
    "        self.mu_optimizer.apply_gradients(zip(grads_mu, self.mu.trainable_variables))\n",
    "\n",
    "        # update target networks\n",
    "\n",
    "        # updating q_mu network\n",
    "        \n",
    "        temp1 = np.array(self.q_mu_target.get_weights())\n",
    "        temp2 = np.array(self.q_mu.get_weights())\n",
    "        temp3 = self.tau*temp2 + (1-self.tau)*temp1\n",
    "        self.q_mu_target.set_weights(temp3)\n",
    "      \n",
    "\n",
    "      # updating mu network\n",
    "        temp1 = np.array(self.mu_target.get_weights())\n",
    "        temp2 = np.array(self.mu.get_weights())\n",
    "        temp3 = self.tau*temp2 + (1-self.tau)*temp1\n",
    "        self.mu_target.set_weights(temp3)\n",
    "        \n",
    "    def load(self):\n",
    "        self.mu.load_weights(\"mu_target_weights\")\n",
    "        self.q_mu.load_weights(\"q_mu_target_weights\")     \n",
    "        \n",
    "        self.mu_target.load_weights(\"mu_target_weights\")\n",
    "        self.q_mu_target.load_weights(\"q_mu_target_weights\")\n",
    "\n",
    "    def save(self):\n",
    "        self.mu.save_weights(\"mu_weights\")\n",
    "        self.q_mu.save_weights(\"q_mu_target_weights\")     \n",
    "        \n",
    "        self.mu_target.save_weights(\"mu_target_weights\")\n",
    "        self.q_mu_target.save_weights(\"q_mu_target_weights\")"
   ]
  },
  {
   "cell_type": "markdown",
   "id": "28a67d00-9a0d-4a64-a6c1-ed1efeeb100f",
   "metadata": {},
   "source": [
    "# Main"
   ]
  },
  {
   "cell_type": "code",
   "execution_count": 18,
   "id": "c011893d-d010-484e-8a2d-e216c2d1cbb8",
   "metadata": {},
   "outputs": [],
   "source": [
    "import gym"
   ]
  },
  {
   "cell_type": "code",
   "execution_count": 19,
   "id": "24f92de5-22fc-4050-b35b-13023afb6629",
   "metadata": {},
   "outputs": [],
   "source": [
    "env = gym.make(\"Pendulum-v1\")\n",
    "\n",
    "max_episodes = 50\n",
    "max_steps = 500\n",
    "batch_size = 32\n",
    "\n",
    "gamma = 0.99\n",
    "tau = 1e-2\n",
    "buffer_maxlen = 100000\n",
    "critic_lr = 1e-3\n",
    "actor_lr = 1e-3\n",
    "\n",
    "agent = DDPGAgent(env, gamma, tau, buffer_maxlen, critic_lr, actor_lr)"
   ]
  },
  {
   "cell_type": "code",
   "execution_count": 20,
   "id": "ce4254a6-3344-49fe-94bc-668f58fcf563",
   "metadata": {},
   "outputs": [],
   "source": [
    "agent.load()"
   ]
  },
  {
   "cell_type": "code",
   "execution_count": 21,
   "id": "abc2d0de-567a-401c-a683-ab6117732abd",
   "metadata": {},
   "outputs": [],
   "source": [
    "def play(games):\n",
    "    episode_rewards = []\n",
    "\n",
    "    for episode in range(games):\n",
    "        state = env.reset()\n",
    "        episode_reward = 0\n",
    "\n",
    "        for step in range(max_steps):\n",
    "            action = agent.get_action(state, 0)\n",
    "            next_state, reward, done, _ = env.step(action)\n",
    "            env.render()\n",
    "            episode_reward += reward\n",
    "\n",
    "            if done or step == max_steps-1:\n",
    "                episode_rewards.append(episode_reward)\n",
    "                print(\"Game \" + str(episode) + \": \" + str(episode_reward))\n",
    "                break\n",
    "\n",
    "            state = next_state\n",
    "\n",
    "    env.close()"
   ]
  },
  {
   "cell_type": "code",
   "execution_count": 22,
   "id": "34bb486d-57af-4865-94b6-7816a6847f67",
   "metadata": {},
   "outputs": [
    {
     "name": "stdout",
     "output_type": "stream",
     "text": [
      "Game 0: -249.884386064341\n"
     ]
    }
   ],
   "source": [
    "play(1)"
   ]
  }
 ],
 "metadata": {
  "kernelspec": {
   "display_name": "Python 3 (ipykernel)",
   "language": "python",
   "name": "python3"
  },
  "language_info": {
   "codemirror_mode": {
    "name": "ipython",
    "version": 3
   },
   "file_extension": ".py",
   "mimetype": "text/x-python",
   "name": "python",
   "nbconvert_exporter": "python",
   "pygments_lexer": "ipython3",
   "version": "3.7.12"
  }
 },
 "nbformat": 4,
 "nbformat_minor": 5
}
