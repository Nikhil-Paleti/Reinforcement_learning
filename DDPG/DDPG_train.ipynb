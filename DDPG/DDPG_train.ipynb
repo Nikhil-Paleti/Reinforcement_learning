{
 "cells": [
  {
   "cell_type": "markdown",
   "id": "3b9431df-a2be-4f6a-9869-35423630494b",
   "metadata": {},
   "source": [
    "# buffer"
   ]
  },
  {
   "cell_type": "code",
   "execution_count": 1,
   "id": "886c949c-c57d-404a-bd33-8653bb8007e3",
   "metadata": {},
   "outputs": [],
   "source": [
    "import numpy as np\n",
    "from collections import deque\n",
    "import random"
   ]
  },
  {
   "cell_type": "code",
   "execution_count": 2,
   "id": "eb2d23a2-8f85-4f58-a256-70abdbf8fe15",
   "metadata": {
    "tags": []
   },
   "outputs": [],
   "source": [
    "class BasicBuffer_a:\n",
    "    \n",
    "    def __init__(self, size, obs_dim, act_dim):\n",
    "        self.obs1_buf = np.zeros([size, obs_dim], dtype=np.float32)\n",
    "        self.obs2_buf = np.zeros([size, obs_dim], dtype=np.float32)\n",
    "        self.acts_buf = np.zeros([size, act_dim], dtype=np.float32)\n",
    "        self.rews_buf = np.zeros([size], dtype=np.float32)\n",
    "        self.done_buf = np.zeros([size], dtype=np.float32)\n",
    "        self.ptr, self.size, self.max_size = 0, 0, size\n",
    "\n",
    "    def push(self, obs, act, rew, next_obs, done):\n",
    "        self.obs1_buf[self.ptr] = obs\n",
    "        self.obs2_buf[self.ptr] = next_obs\n",
    "        self.acts_buf[self.ptr] = act\n",
    "        self.rews_buf[self.ptr] = np.asarray([rew])\n",
    "        self.done_buf[self.ptr] = done\n",
    "        self.ptr = (self.ptr+1) % self.max_size\n",
    "        self.size = min(self.size+1, self.max_size)\n",
    "\n",
    "    def sample(self, batch_size=32):\n",
    "        idxs = np.random.randint(0, self.size, size=batch_size)\n",
    "        temp_dict= dict(s=self.obs1_buf[idxs],\n",
    "                    s2=self.obs2_buf[idxs],\n",
    "                    a=self.acts_buf[idxs],\n",
    "                    r=self.rews_buf[idxs],\n",
    "                    d=self.done_buf[idxs])\n",
    "        return (temp_dict['s'],temp_dict['a'],temp_dict['r'].reshape(-1,1),temp_dict['s2'],temp_dict['d'])"
   ]
  },
  {
   "cell_type": "markdown",
   "id": "2f06cf04-fdec-40ba-b0d9-579dc58622d2",
   "metadata": {},
   "source": [
    "# Critic and agent"
   ]
  },
  {
   "cell_type": "code",
   "execution_count": 3,
   "id": "f6252d53-a350-4b7d-a90d-323740ca19f9",
   "metadata": {},
   "outputs": [],
   "source": [
    "import tensorflow as tf\n",
    "from tensorflow.keras.layers import Input, Dense, concatenate"
   ]
  },
  {
   "cell_type": "code",
   "execution_count": 4,
   "id": "57248fb5-cedd-45fd-98d1-9c82662a5568",
   "metadata": {},
   "outputs": [],
   "source": [
    "def Critic_gen(state_size, action_size,hidden_layers):\n",
    "\n",
    "    input_x = Input(shape=state_size)\n",
    "    input_a = Input(shape=action_size)\n",
    "    x = input_x\n",
    "    for i,j in enumerate(hidden_layers[:-1]):\n",
    "        if i==1:\n",
    "            x = concatenate([x,input_a],axis=-1)\n",
    "        x = Dense(j,activation='relu')(x)\n",
    "    x = Dense(hidden_layers[-1])(x)\n",
    "    \n",
    "    return tf.keras.Model([input_x,input_a],x)\n",
    "\n",
    "def Actor_gen(state_size,action_size,hidden_layers,action_mult=1):\n",
    "    input_x = Input(shape=state_size)\n",
    "    x = input_x\n",
    "    for i in hidden_layers:\n",
    "        x = Dense(i,activation='relu')(x)\n",
    "    x = Dense(action_size,activation='tanh')(x)\n",
    "    x = tf.math.multiply(x,action_mult)\n",
    "    return tf.keras.Model(input_x,x)"
   ]
  },
  {
   "cell_type": "markdown",
   "id": "5efd08d8-202f-4b4e-b954-48658a835171",
   "metadata": {},
   "source": [
    "# DDPG"
   ]
  },
  {
   "cell_type": "code",
   "execution_count": 5,
   "id": "1bbd94d1-1a92-4c89-86a7-6cb1187a06cb",
   "metadata": {},
   "outputs": [],
   "source": [
    "import matplotlib.pyplot as plt\n",
    "from datetime import datetime\n",
    "from sys import exit"
   ]
  },
  {
   "cell_type": "code",
   "execution_count": 6,
   "id": "059ba823-b45d-4072-8225-a5d951923333",
   "metadata": {},
   "outputs": [],
   "source": [
    "class DDPGAgent:\n",
    "    \n",
    "    def __init__(self, env, gamma, tau, buffer_maxlen, critic_learning_rate, actor_learning_rate):\n",
    "        \n",
    "        self.env = env\n",
    "        self.obs_dim = env.observation_space.shape[0]\n",
    "        self.action_dim = env.action_space.shape[0]\n",
    "        self.action_max = env.action_space.high[0]\n",
    "        # self.action_max = 1\n",
    "        \n",
    "        # hyperparameters\n",
    "        self.env = env\n",
    "        self.gamma = gamma\n",
    "        self.tau = tau\n",
    "        \n",
    "        #Network layers\n",
    "        actor_layer = [512,200,128]\n",
    "        critic_layer = [1024,512,300,1]\n",
    "\n",
    "\n",
    "        # Main network outputs\n",
    "        self.mu = Actor_gen((3),(1),actor_layer,self.action_max)\n",
    "        self.q_mu = Critic_gen((3),(1),critic_layer)\n",
    "\n",
    "        # Target networks\n",
    "        self.mu_target = Actor_gen((3),(1),actor_layer,self.action_max)\n",
    "        self.q_mu_target = Critic_gen((3),(1),critic_layer)\n",
    "      \n",
    "        # Copying weights in,\n",
    "        self.mu_target.set_weights(self.mu.get_weights())\n",
    "        self.q_mu_target.set_weights(self.q_mu.get_weights())\n",
    "    \n",
    "        # optimizers\n",
    "        self.mu_optimizer = tf.keras.optimizers.Adam(learning_rate=critic_learning_rate)\n",
    "        self.q_mu_optimizer = tf.keras.optimizers.Adam(learning_rate=actor_learning_rate)\n",
    "  \n",
    "        self.replay_buffer = BasicBuffer_a(size = buffer_maxlen, obs_dim = self.obs_dim, act_dim = self.action_dim)\n",
    "        \n",
    "        self.q_losses = []\n",
    "        \n",
    "        self.mu_losses = []\n",
    "        \n",
    "    def get_action(self, s, noise_scale):\n",
    "        a =  self.mu.predict(s.reshape(1,-1))[0]\n",
    "        a += noise_scale * np.random.randn(self.action_dim)\n",
    "        return np.clip(a, -self.action_max, self.action_max)\n",
    "\n",
    "    def update(self, batch_size):\n",
    "        \n",
    "        \n",
    "        X,A,R,X2,D = self.replay_buffer.sample(batch_size)\n",
    "        X = np.asarray(X,dtype=np.float32)\n",
    "        A = np.asarray(A,dtype=np.float32)\n",
    "        R = np.asarray(R,dtype=np.float32)\n",
    "        X2 = np.asarray(X2,dtype=np.float32)\n",
    "        \n",
    "        \n",
    "        Xten=tf.convert_to_tensor(X)\n",
    "        \n",
    "\n",
    "        # Updating Critic\n",
    "        with tf.GradientTape() as tape:\n",
    "            A2 =  self.mu_target(X2)\n",
    "            q_target = R + self.gamma  * self.q_mu_target([X2,A2])\n",
    "            qvals = self.q_mu([X,A]) \n",
    "            q_loss = tf.reduce_mean((qvals - q_target)**2)\n",
    "            grads_q = tape.gradient(q_loss,self.q_mu.trainable_variables)\n",
    "        self.q_mu_optimizer.apply_gradients(zip(grads_q, self.q_mu.trainable_variables))\n",
    "        self.q_losses.append(q_loss)\n",
    "\n",
    "\n",
    "        #Updating Actor\n",
    "        with tf.GradientTape() as tape2:\n",
    "            A_mu =  self.mu(X)\n",
    "            Q_mu = self.q_mu([X,A_mu])\n",
    "            mu_loss =  -tf.reduce_mean(Q_mu)\n",
    "            grads_mu = tape2.gradient(mu_loss,self.mu.trainable_variables)\n",
    "        self.mu_losses.append(mu_loss)\n",
    "        self.mu_optimizer.apply_gradients(zip(grads_mu, self.mu.trainable_variables))\n",
    "\n",
    "        # update target networks\n",
    "\n",
    "        # updating q_mu network\n",
    "        \n",
    "        temp1 = np.array(self.q_mu_target.get_weights())\n",
    "        temp2 = np.array(self.q_mu.get_weights())\n",
    "        temp3 = self.tau*temp2 + (1-self.tau)*temp1\n",
    "        self.q_mu_target.set_weights(temp3)\n",
    "      \n",
    "\n",
    "      # updating mu network\n",
    "        temp1 = np.array(self.mu_target.get_weights())\n",
    "        temp2 = np.array(self.mu.get_weights())\n",
    "        temp3 = self.tau*temp2 + (1-self.tau)*temp1\n",
    "        self.mu_target.set_weights(temp3)\n",
    "        \n",
    "    def load(self):\n",
    "        self.mu.load_weights(\"mu_weights\")\n",
    "        self.q_mu.load_weights(\"q_mu_target_weights\")     \n",
    "        \n",
    "        self.mu_target.load_weights(\"mu_target_weights\")\n",
    "        self.q_mu_target.load_weights(\"q_mu_target_weights\")\n",
    "\n",
    "    def save(self):\n",
    "        self.mu.save_weights(\"mu_weights\")\n",
    "        self.q_mu.save_weights(\"q_mu_target_weights\")     \n",
    "        \n",
    "        self.mu_target.save_weights(\"mu_target_weights\")\n",
    "        self.q_mu_target.save_weights(\"q_mu_target_weights\")"
   ]
  },
  {
   "cell_type": "markdown",
   "id": "28a67d00-9a0d-4a64-a6c1-ed1efeeb100f",
   "metadata": {},
   "source": [
    "# Main"
   ]
  },
  {
   "cell_type": "code",
   "execution_count": 7,
   "id": "c011893d-d010-484e-8a2d-e216c2d1cbb8",
   "metadata": {},
   "outputs": [
    {
     "name": "stderr",
     "output_type": "stream",
     "text": [
      "C:\\Users\\Nikhil\\anaconda3\\envs\\myenv\\lib\\site-packages\\ale_py\\roms\\utils.py:90: DeprecationWarning: SelectableGroups dict interface is deprecated. Use select.\n",
      "  for external in metadata.entry_points().get(self.group, []):\n"
     ]
    }
   ],
   "source": [
    "import gym"
   ]
  },
  {
   "cell_type": "code",
   "execution_count": 8,
   "id": "3ab2da96-2b4c-407e-9846-9f934cf88b99",
   "metadata": {},
   "outputs": [],
   "source": [
    "def trainer(env, agent, max_episodes, max_steps, batch_size, action_noise):\n",
    "    episode_rewards = []\n",
    "\n",
    "    for episode in range(max_episodes):\n",
    "        state = env.reset()\n",
    "        episode_reward = 0\n",
    "\n",
    "        for step in range(max_steps):\n",
    "            action = agent.get_action(state, action_noise)\n",
    "            next_state, reward, done, _ = env.step(action)\n",
    "            env.render()\n",
    "            d_store = False if step == max_steps-1 else done\n",
    "            agent.replay_buffer.push(state, action, reward, next_state, d_store)\n",
    "            episode_reward += reward\n",
    "\n",
    "            if agent.replay_buffer.size > batch_size:\n",
    "                agent.update(batch_size)   \n",
    "\n",
    "\n",
    "            if done or step == max_steps-1:\n",
    "                episode_rewards.append(episode_reward)\n",
    "                print(\"Episode \" + str(episode) + \": \" + str(episode_reward))\n",
    "                break\n",
    "\n",
    "            state = next_state\n",
    "\n",
    "    return episode_rewards"
   ]
  },
  {
   "cell_type": "code",
   "execution_count": 9,
   "id": "24f92de5-22fc-4050-b35b-13023afb6629",
   "metadata": {},
   "outputs": [
    {
     "name": "stderr",
     "output_type": "stream",
     "text": [
      "C:\\Users\\Nikhil\\anaconda3\\envs\\myenv\\lib\\site-packages\\pyglet\\image\\codecs\\wic.py:289: UserWarning: [WinError -2147417850] Cannot change thread mode after it is set\n",
      "  warnings.warn(str(err))\n",
      "C:\\Users\\Nikhil\\anaconda3\\envs\\myenv\\lib\\site-packages\\ipykernel_launcher.py:85: VisibleDeprecationWarning: Creating an ndarray from ragged nested sequences (which is a list-or-tuple of lists-or-tuples-or ndarrays with different lengths or shapes) is deprecated. If you meant to do this, you must specify 'dtype=object' when creating the ndarray.\n",
      "C:\\Users\\Nikhil\\anaconda3\\envs\\myenv\\lib\\site-packages\\ipykernel_launcher.py:86: VisibleDeprecationWarning: Creating an ndarray from ragged nested sequences (which is a list-or-tuple of lists-or-tuples-or ndarrays with different lengths or shapes) is deprecated. If you meant to do this, you must specify 'dtype=object' when creating the ndarray.\n",
      "C:\\Users\\Nikhil\\anaconda3\\envs\\myenv\\lib\\site-packages\\ipykernel_launcher.py:92: VisibleDeprecationWarning: Creating an ndarray from ragged nested sequences (which is a list-or-tuple of lists-or-tuples-or ndarrays with different lengths or shapes) is deprecated. If you meant to do this, you must specify 'dtype=object' when creating the ndarray.\n",
      "C:\\Users\\Nikhil\\anaconda3\\envs\\myenv\\lib\\site-packages\\ipykernel_launcher.py:93: VisibleDeprecationWarning: Creating an ndarray from ragged nested sequences (which is a list-or-tuple of lists-or-tuples-or ndarrays with different lengths or shapes) is deprecated. If you meant to do this, you must specify 'dtype=object' when creating the ndarray.\n"
     ]
    },
    {
     "name": "stdout",
     "output_type": "stream",
     "text": [
      "Episode 0: -1234.131946509343\n",
      "Episode 1: -1344.3138004966797\n",
      "Episode 2: -1523.3952653769602\n",
      "Episode 3: -1502.2732436308052\n",
      "Episode 4: -1190.9134857647791\n",
      "Episode 5: -270.70206934113065\n",
      "Episode 6: -401.37840588162345\n",
      "Episode 7: -137.61495880333214\n",
      "Episode 8: -401.74884857614796\n",
      "Episode 9: -405.0648491372098\n",
      "Episode 10: -4.633005378914011\n",
      "Episode 11: -8.524334501218783\n",
      "Episode 12: -377.53855112822004\n",
      "Episode 13: -323.4970496543027\n",
      "Episode 14: -131.87824402637298\n",
      "Episode 15: -132.0456306363119\n",
      "Episode 16: -131.1877487872517\n",
      "Episode 17: -135.24509293296805\n",
      "Episode 18: -118.29836288599348\n",
      "Episode 19: -133.87342420130506\n",
      "Episode 20: -126.53903157738185\n",
      "Episode 21: -246.09696948769647\n",
      "Episode 22: -516.3146753014582\n",
      "Episode 23: -252.35111005273157\n",
      "Episode 24: -127.60659347118073\n",
      "Episode 25: -130.8712182975034\n",
      "Episode 26: -119.65555478224806\n",
      "Episode 27: -116.54528001637262\n",
      "Episode 28: -2.752813125703214\n",
      "Episode 29: -232.75944058078633\n",
      "Episode 30: -241.88794859773466\n",
      "Episode 31: -124.20203670455889\n",
      "Episode 32: -120.49970492029306\n",
      "Episode 33: -258.8061784032212\n",
      "Episode 34: -369.2082288944403\n",
      "Episode 35: -133.11239241022432\n",
      "Episode 36: -134.09309979309106\n",
      "Episode 37: -341.23646365957956\n",
      "Episode 38: -117.75741703065624\n",
      "Episode 39: -116.11280024643536\n",
      "Episode 40: -127.5054876624185\n",
      "Episode 41: -125.19708421835249\n",
      "Episode 42: -132.78968423104448\n",
      "Episode 43: -3.127029138630942\n",
      "Episode 44: -122.98377696900295\n",
      "Episode 45: -237.5415048223156\n",
      "Episode 46: -122.48202453572807\n",
      "Episode 47: -301.4556922342636\n",
      "Episode 48: -116.98969265664148\n",
      "Episode 49: -118.94124670918116\n"
     ]
    }
   ],
   "source": [
    "env = gym.make(\"Pendulum-v1\")\n",
    "\n",
    "max_episodes = 50\n",
    "max_steps = 500\n",
    "batch_size = 32\n",
    "\n",
    "gamma = 0.99\n",
    "tau = 1e-2\n",
    "buffer_maxlen = 100000\n",
    "critic_lr = 1e-3\n",
    "actor_lr = 1e-3\n",
    "\n",
    "agent = DDPGAgent(env, gamma, tau, buffer_maxlen, critic_lr, actor_lr)\n",
    "episode_rewards = trainer(env, agent, max_episodes, max_steps, batch_size,action_noise=0.1)"
   ]
  },
  {
   "cell_type": "code",
   "execution_count": 11,
   "id": "5c6e819f-e8cd-46cd-9ade-00132481c870",
   "metadata": {},
   "outputs": [],
   "source": [
    "env.close()"
   ]
  },
  {
   "cell_type": "code",
   "execution_count": 17,
   "id": "737e4cfa-7436-4f9b-a1b1-4bb136ebd1b1",
   "metadata": {},
   "outputs": [
    {
     "data": {
      "text/plain": [
       "Text(0.5, 1.0, 'DDPG - pendulum')"
      ]
     },
     "execution_count": 17,
     "metadata": {},
     "output_type": "execute_result"
    },
    {
     "data": {
      "image/png": "[encoded data removed]",
      "text/plain": [
       "<Figure size 432x288 with 1 Axes>"
      ]
     },
     "metadata": {
      "needs_background": "light"
     },
     "output_type": "display_data"
    }
   ],
   "source": [
    "fig, ax = plt.subplots()\n",
    "ax.plot(range(len(episode_rewards)), episode_rewards)\n",
    "ax.set_xlabel(\"Episodes\")\n",
    "ax.set_ylabel(\"Rewards\")\n",
    "ax.set_title(\"DDPG - pendulum\")"
   ]
  },
  {
   "cell_type": "code",
   "execution_count": 18,
   "id": "37e8a3f4-06a8-4f84-910e-11d27a2765dd",
   "metadata": {},
   "outputs": [],
   "source": [
    "agent.save()"
   ]
  }
 ],
 "metadata": {
  "kernelspec": {
   "display_name": "Python 3 (ipykernel)",
   "language": "python",
   "name": "python3"
  },
  "language_info": {
   "codemirror_mode": {
    "name": "ipython",
    "version": 3
   },
   "file_extension": ".py",
   "mimetype": "text/x-python",
   "name": "python",
   "nbconvert_exporter": "python",
   "pygments_lexer": "ipython3",
   "version": "3.7.12"
  }
 },
 "nbformat": 4,
 "nbformat_minor": 5
}
